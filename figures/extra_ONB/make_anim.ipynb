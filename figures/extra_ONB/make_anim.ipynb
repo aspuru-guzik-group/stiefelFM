{
 "cells": [
  {
   "cell_type": "code",
   "execution_count": 2,
   "metadata": {},
   "outputs": [
    {
     "data": {
      "text/plain": [
       "Molecule(coords=[19, 3], atoms=[19, 1], id=120661142, sizes=[1], moments=[1, 3], num_nodes=19)"
      ]
     },
     "execution_count": 2,
     "metadata": {},
     "output_type": "execute_result"
    }
   ],
   "source": [
    "import sys\n",
    "sys.path.append(\"../..\")\n",
    "import numpy as np\n",
    "np.set_printoptions(suppress=True)\n",
    "import torch\n",
    "torch.set_printoptions(sci_mode=False)\n",
    "import matplotlib.pyplot as plt\n",
    "import pandas as pd\n",
    "import py3Dmol\n",
    "\n",
    "from src.datamodule import ConformerDataModule\n",
    "import tqdm\n",
    "\n",
    "dm = ConformerDataModule(\"qm9\", batch_size_train=512, num_workers=0)\n",
    "# dm = ConformerDataModule(\"geom\", batch_size_train=512, num_workers=0)\n",
    "\n",
    "dset = dm.datasets[\"train\"]\n",
    "\n",
    "dset[0]"
   ]
  },
  {
   "cell_type": "code",
   "execution_count": 3,
   "metadata": {},
   "outputs": [],
   "source": [
    "def make_html(view, fname=\"input.html\"):\n",
    "    net = f'<img id=\"img_A\"><script src=\"https://3Dmol.org/build/3Dmol-min.js\"></script><script src=\"https://3Dmol.org/build/3Dmol.ui-min.js\"></script>' + view._make_html()\n",
    "    net = net.replace('viewer_{0}.render();'.format(view.uniqueid), 'viewer_{0}.render();\\nvar png = viewer_{0}.pngURI();\\ndocument.getElementById(\"img_A\").src = png;'.format(view.uniqueid))\n",
    "\n",
    "    with open(fname, \"w\") as f:\n",
    "        f.write(net)"
   ]
  },
  {
   "cell_type": "code",
   "execution_count": 48,
   "metadata": {},
   "outputs": [],
   "source": [
    "M = dset[20729].clone()\n",
    "M.coords = M.coords * torch.tensor([-1.0, 1.0, 1.0])\n",
    "\n",
    "arrow_len = 5.0\n",
    "radius = 0.1\n",
    "mid = 0.95\n",
    "def add(view, M, style=\"mol\", opacity=None):\n",
    "\n",
    "    view = py3Dmol.view(width=1500, height=1500)\n",
    "    view.addModel(M.xyzfile, \"xyz\")\n",
    "    if style == \"mol\":\n",
    "        style = {\"stick\": {\"radius\": 0.2}, \"sphere\": {\"scale\": 0.2}}\n",
    "    elif style == \"cloud\":\n",
    "        style = {\"sphere\": {\"scale\": 0.2}}\n",
    "        if opacity is not None:\n",
    "            style[\"sphere\"][\"opacity\"] = opacity\n",
    "    view.setStyle({\"model\": -1}, style)\n",
    "    return view\n",
    "\n",
    "def finish(view, xshift=0):\n",
    "    view.addArrow({\n",
    "                            'start': {'x':0.0, 'y':0.0, 'z':0.0},\n",
    "                            'end': {'x':arrow_len, 'y':0.0, 'z':0.0},\n",
    "                            'radius': radius,\n",
    "                            'color':'red',\n",
    "                            'mid': mid,\n",
    "                            })\n",
    "    view.addArrow({\n",
    "                            'start': {'x':0.0, 'y':0.0, 'z':0.0},\n",
    "                            'end': {'x':0.0, 'y':arrow_len, 'z':0.0},\n",
    "                            'radius': radius,\n",
    "                            'color':'green',\n",
    "                            'mid': mid,\n",
    "                            })\n",
    "    view.addArrow({\n",
    "                            'start': {'x':0.0, 'y':0.0, 'z':0.0},\n",
    "                            'end': {'x':0.0, 'y':0.0, 'z':arrow_len},\n",
    "                            'radius': radius,\n",
    "                            'color':'blue',\n",
    "                            'mid': mid,\n",
    "                            })\n",
    "    view.rotate(30, {'x': 1, 'y': -1, 'z': -.2})\n",
    "    view.zoom(0.45)\n",
    "    # view.zoomTo()\n",
    "    view.translate(xshift, -50)\n",
    "    return view"
   ]
  },
  {
   "cell_type": "code",
   "execution_count": 49,
   "metadata": {},
   "outputs": [],
   "source": [
    "from src.models.flow import sample_ONB_0\n",
    "for i in range(10):\n",
    "    ONB_1 = M.ONB_4col.numpy()\n",
    "    ONB_0 = sample_ONB_0(ONB_1.shape, ONB_1[:, -1].reshape(-1, 1))\n",
    "\n",
    "    ONB_0 = torch.tensor(ONB_0)\n",
    "    ONB_1 = torch.tensor(ONB_1)\n",
    "\n",
    "    M_0 = M.clone()\n",
    "    M_0.coords = M.from_ONB_4col(ONB_0)\n",
    "\n",
    "    view = py3Dmol.view(width=1500, height=1500)\n",
    "    view = add(view, M_0, style=\"cloud\")\n",
    "    view = finish(view, xshift=0)\n",
    "    make_html(view, f\"cloud{i}.html\")\n",
    "    # view.show()"
   ]
  },
  {
   "cell_type": "code",
   "execution_count": null,
   "metadata": {},
   "outputs": [],
   "source": []
  }
 ],
 "metadata": {
  "kernelspec": {
   "display_name": "Python 3",
   "language": "python",
   "name": "python3"
  },
  "language_info": {
   "codemirror_mode": {
    "name": "ipython",
    "version": 3
   },
   "file_extension": ".py",
   "mimetype": "text/x-python",
   "name": "python",
   "nbconvert_exporter": "python",
   "pygments_lexer": "ipython3",
   "version": "3.9.18"
  }
 },
 "nbformat": 4,
 "nbformat_minor": 2
}
