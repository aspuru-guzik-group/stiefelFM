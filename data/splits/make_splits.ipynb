{
 "cells": [
  {
   "cell_type": "code",
   "execution_count": 1,
   "metadata": {},
   "outputs": [],
   "source": [
    "import numpy as np\n",
    "import pandas as pd\n",
    "import matplotlib.pyplot as plt\n",
    "import torch\n",
    "import py3Dmol\n",
    "from rdkit.Chem.rdchem import GetPeriodicTable\n",
    "from sklearn.model_selection import train_test_split\n",
    "\n",
    "PTABLE = GetPeriodicTable()\n",
    "np.set_printoptions(formatter={'all':lambda x: str(x)})\n",
    "\n",
    "def xyzfile(axyz):\n",
    "    file = f\"{axyz.shape[0]}\\n\\n\"\n",
    "    for a, p in zip(axyz[:, 0], axyz[:, 1:]):\n",
    "        x, y, z = p.tolist()\n",
    "        file += f\"{PTABLE.GetElementSymbol(int(a))} {x:f} {y:f} {z:f}\\n\"\n",
    "    return file\n",
    "\n",
    "def show(axyz):\n",
    "    view = py3Dmol.view(width=800, height=400)\n",
    "    view.addModel(xyzfile(axyz), \"xyz\")\n",
    "    view.setStyle({'stick': {}, 'sphere': {'scale': 0.25}})\n",
    "    view.zoomTo()\n",
    "    view.show()"
   ]
  },
  {
   "cell_type": "code",
   "execution_count": 2,
   "metadata": {},
   "outputs": [],
   "source": [
    "metadata = np.load(\"../raw/qm9/processed/metadata.npy\")\n",
    "coords = np.load(\"../raw/qm9/processed/coords.npy\")\n",
    "\n",
    "# Unbind coordinates\n",
    "start_indices = metadata[:, 0]\n",
    "coords = np.split(coords, start_indices[1:])"
   ]
  },
  {
   "cell_type": "code",
   "execution_count": 3,
   "metadata": {},
   "outputs": [],
   "source": [
    "split_ratio = [0.8, 0.1, 0.1]\n",
    "D = np.arange(metadata.shape[0])\n",
    "seed = 100\n",
    "\n",
    "splits = {\"train\": None, \"val\": None, \"test\": None}\n",
    "val_test_ratio = split_ratio[1] / (split_ratio[1] + split_ratio[2])\n",
    "splits[\"train\"], D = train_test_split(D, train_size=split_ratio[0], random_state=seed)\n",
    "splits[\"val\"], splits[\"test\"] = train_test_split(D, train_size=val_test_ratio, random_state=(seed + 1))"
   ]
  },
  {
   "cell_type": "code",
   "execution_count": 4,
   "metadata": {},
   "outputs": [],
   "source": [
    "for key in splits:\n",
    "    assert (np.sort(np.load(f\"qm9_{key}.npy\")) == np.sort(splits[key])).all()"
   ]
  },
  {
   "cell_type": "code",
   "execution_count": 5,
   "metadata": {},
   "outputs": [
    {
     "name": "stderr",
     "output_type": "stream",
     "text": [
      "133471it [01:07, 1982.57it/s]\n"
     ]
    }
   ],
   "source": [
    "import sys\n",
    "sys.path.append('../..')\n",
    "from src.datamodule import make_molecule\n",
    "\n",
    "moments = []\n",
    "\n",
    "from tqdm import tqdm\n",
    "for info, axyz in tqdm(zip(metadata, coords)):\n",
    "    M = make_molecule(info, axyz)\n",
    "    moments.append(M.moments.numpy()[0])\n",
    "moments = np.array(moments)"
   ]
  },
  {
   "cell_type": "code",
   "execution_count": 6,
   "metadata": {},
   "outputs": [
    {
     "data": {
      "text/plain": [
       "(133471,)"
      ]
     },
     "execution_count": 6,
     "metadata": {},
     "output_type": "execute_result"
    }
   ],
   "source": [
    "min_moments = moments.min(axis=1)\n",
    "min_moments.shape"
   ]
  },
  {
   "cell_type": "code",
   "execution_count": 7,
   "metadata": {},
   "outputs": [
    {
     "data": {
      "text/plain": [
       "3109"
      ]
     },
     "execution_count": 7,
     "metadata": {},
     "output_type": "execute_result"
    }
   ],
   "source": [
    "(min_moments < 1e-5).sum()"
   ]
  },
  {
   "cell_type": "code",
   "execution_count": 8,
   "metadata": {},
   "outputs": [
    {
     "data": {
      "application/3dmoljs_load.v0": "<div id=\"3dmolviewer_17072347511202953\"  style=\"position: relative; width: 800px; height: 400px;\">\n        <p id=\"3dmolwarning_17072347511202953\" style=\"background-color:#ffcccc;color:black\">You appear to be running in JupyterLab (or JavaScript failed to load for some other reason).  You need to install the 3dmol extension: <br>\n        <tt>jupyter labextension install jupyterlab_3dmol</tt></p>\n        </div>\n<script>\n\nvar loadScriptAsync = function(uri){\n  return new Promise((resolve, reject) => {\n    //this is to ignore the existence of requirejs amd\n    var savedexports, savedmodule;\n    if (typeof exports !== 'undefined') savedexports = exports;\n    else exports = {}\n    if (typeof module !== 'undefined') savedmodule = module;\n    else module = {}\n\n    var tag = document.createElement('script');\n    tag.src = uri;\n    tag.async = true;\n    tag.onload = () => {\n        exports = savedexports;\n        module = savedmodule;\n        resolve();\n    };\n  var firstScriptTag = document.getElementsByTagName('script')[0];\n  firstScriptTag.parentNode.insertBefore(tag, firstScriptTag);\n});\n};\n\nif(typeof $3Dmolpromise === 'undefined') {\n$3Dmolpromise = null;\n  $3Dmolpromise = loadScriptAsync('https://cdnjs.cloudflare.com/ajax/libs/3Dmol/2.0.4/3Dmol-min.js');\n}\n\nvar viewer_17072347511202953 = null;\nvar warn = document.getElementById(\"3dmolwarning_17072347511202953\");\nif(warn) {\n    warn.parentNode.removeChild(warn);\n}\n$3Dmolpromise.then(function() {\nviewer_17072347511202953 = $3Dmol.createViewer(document.getElementById(\"3dmolviewer_17072347511202953\"),{backgroundColor:\"white\"});\nviewer_17072347511202953.zoomTo();\n\tviewer_17072347511202953.addModel(\"12\\n\\nN -1.583431 -2.090094 -0.000337\\nC -0.700830 -1.086689 0.000155\\nN 0.555732 -1.273518 -0.000122\\nC 1.425660 -0.187944 -0.000226\\nO 2.613399 -0.311066 0.000370\\nN 0.819227 1.088223 -0.000416\\nC -0.437836 1.180378 -0.000149\\nO -1.065296 2.343084 0.000024\\nH -0.408582 3.055771 -0.000389\\nO -1.315720 0.148512 0.000522\\nH -1.234684 -3.031121 -0.000004\\nH -2.568516 -1.894239 0.000618\\n\",\"xyz\");\n\tviewer_17072347511202953.setStyle({\"stick\": {}, \"sphere\": {\"scale\": 0.25}});\n\tviewer_17072347511202953.zoomTo();\nviewer_17072347511202953.render();\n});\n</script>",
      "text/html": [
       "<div id=\"3dmolviewer_17072347511202953\"  style=\"position: relative; width: 800px; height: 400px;\">\n",
       "        <p id=\"3dmolwarning_17072347511202953\" style=\"background-color:#ffcccc;color:black\">You appear to be running in JupyterLab (or JavaScript failed to load for some other reason).  You need to install the 3dmol extension: <br>\n",
       "        <tt>jupyter labextension install jupyterlab_3dmol</tt></p>\n",
       "        </div>\n",
       "<script>\n",
       "\n",
       "var loadScriptAsync = function(uri){\n",
       "  return new Promise((resolve, reject) => {\n",
       "    //this is to ignore the existence of requirejs amd\n",
       "    var savedexports, savedmodule;\n",
       "    if (typeof exports !== 'undefined') savedexports = exports;\n",
       "    else exports = {}\n",
       "    if (typeof module !== 'undefined') savedmodule = module;\n",
       "    else module = {}\n",
       "\n",
       "    var tag = document.createElement('script');\n",
       "    tag.src = uri;\n",
       "    tag.async = true;\n",
       "    tag.onload = () => {\n",
       "        exports = savedexports;\n",
       "        module = savedmodule;\n",
       "        resolve();\n",
       "    };\n",
       "  var firstScriptTag = document.getElementsByTagName('script')[0];\n",
       "  firstScriptTag.parentNode.insertBefore(tag, firstScriptTag);\n",
       "});\n",
       "};\n",
       "\n",
       "if(typeof $3Dmolpromise === 'undefined') {\n",
       "$3Dmolpromise = null;\n",
       "  $3Dmolpromise = loadScriptAsync('https://cdnjs.cloudflare.com/ajax/libs/3Dmol/2.0.4/3Dmol-min.js');\n",
       "}\n",
       "\n",
       "var viewer_17072347511202953 = null;\n",
       "var warn = document.getElementById(\"3dmolwarning_17072347511202953\");\n",
       "if(warn) {\n",
       "    warn.parentNode.removeChild(warn);\n",
       "}\n",
       "$3Dmolpromise.then(function() {\n",
       "viewer_17072347511202953 = $3Dmol.createViewer(document.getElementById(\"3dmolviewer_17072347511202953\"),{backgroundColor:\"white\"});\n",
       "viewer_17072347511202953.zoomTo();\n",
       "\tviewer_17072347511202953.addModel(\"12\\n\\nN -1.583431 -2.090094 -0.000337\\nC -0.700830 -1.086689 0.000155\\nN 0.555732 -1.273518 -0.000122\\nC 1.425660 -0.187944 -0.000226\\nO 2.613399 -0.311066 0.000370\\nN 0.819227 1.088223 -0.000416\\nC -0.437836 1.180378 -0.000149\\nO -1.065296 2.343084 0.000024\\nH -0.408582 3.055771 -0.000389\\nO -1.315720 0.148512 0.000522\\nH -1.234684 -3.031121 -0.000004\\nH -2.568516 -1.894239 0.000618\\n\",\"xyz\");\n",
       "\tviewer_17072347511202953.setStyle({\"stick\": {}, \"sphere\": {\"scale\": 0.25}});\n",
       "\tviewer_17072347511202953.zoomTo();\n",
       "viewer_17072347511202953.render();\n",
       "});\n",
       "</script>"
      ]
     },
     "metadata": {},
     "output_type": "display_data"
    },
    {
     "data": {
      "text/plain": [
       "1.2488858e-05"
      ]
     },
     "execution_count": 8,
     "metadata": {},
     "output_type": "execute_result"
    }
   ],
   "source": [
    "i = np.argsort(min_moments)[:3200][-1]\n",
    "show(coords[i])\n",
    "min_moments[i]"
   ]
  },
  {
   "cell_type": "code",
   "execution_count": 9,
   "metadata": {},
   "outputs": [],
   "source": [
    "small_moments = (min_moments < 1e-5).nonzero()[0]\n",
    "np.save(\"qm9_small_moments.npy\", small_moments)"
   ]
  },
  {
   "cell_type": "code",
   "execution_count": 10,
   "metadata": {},
   "outputs": [],
   "source": [
    "num_atoms = np.array([axyz.shape[0] for axyz in coords])\n",
    "small = (num_atoms < 5).nonzero()[0]\n",
    "np.save(\"qm9_too_small.npy\", small)"
   ]
  },
  {
   "cell_type": "code",
   "execution_count": null,
   "metadata": {},
   "outputs": [],
   "source": []
  }
 ],
 "metadata": {
  "kernelspec": {
   "display_name": "kreed",
   "language": "python",
   "name": "python3"
  },
  "language_info": {
   "codemirror_mode": {
    "name": "ipython",
    "version": 3
   },
   "file_extension": ".py",
   "mimetype": "text/x-python",
   "name": "python",
   "nbconvert_exporter": "python",
   "pygments_lexer": "ipython3",
   "version": "3.9.18"
  }
 },
 "nbformat": 4,
 "nbformat_minor": 2
}
