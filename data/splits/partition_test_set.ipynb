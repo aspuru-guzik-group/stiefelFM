{
 "cells": [
  {
   "cell_type": "code",
   "execution_count": 1,
   "metadata": {},
   "outputs": [],
   "source": [
    "import sys\n",
    "sys.path.append(\"../..\")"
   ]
  },
  {
   "cell_type": "code",
   "execution_count": 2,
   "metadata": {},
   "outputs": [],
   "source": [
    "job_size = 100"
   ]
  },
  {
   "cell_type": "code",
   "execution_count": 3,
   "metadata": {},
   "outputs": [],
   "source": [
    "#numpy disable scientific notation\n",
    "import numpy as np\n",
    "np.set_printoptions(suppress=True)\n",
    "from src.datamodule import ConformerDataModule\n",
    "import torch\n",
    "import tqdm\n",
    "np.random.seed(42)\n",
    "dm = ConformerDataModule(\"qm9\", batch_size_train=10, num_workers=0, only_lowest_energy_conformers=False)\n",
    "dset = dm.datasets[\"test\"]"
   ]
  },
  {
   "cell_type": "code",
   "execution_count": 4,
   "metadata": {},
   "outputs": [
    {
     "data": {
      "text/plain": [
       "Molecule(coords=[19, 3], atoms=[19, 1], id=120665884, sizes=[1], moments=[1, 3], num_nodes=19)"
      ]
     },
     "execution_count": 4,
     "metadata": {},
     "output_type": "execute_result"
    }
   ],
   "source": [
    "dset[0]"
   ]
  },
  {
   "cell_type": "code",
   "execution_count": 5,
   "metadata": {},
   "outputs": [
    {
     "data": {
      "text/plain": [
       "13033"
      ]
     },
     "execution_count": 5,
     "metadata": {},
     "output_type": "execute_result"
    }
   ],
   "source": [
    "len(dset)"
   ]
  },
  {
   "cell_type": "code",
   "execution_count": 6,
   "metadata": {},
   "outputs": [],
   "source": [
    "job_idxs = []\n",
    "job_geomids = []\n",
    "for i in range(0, len(dset), job_size):\n",
    "    start = i\n",
    "    end = min(i+job_size, len(dset))\n",
    "    idxs = []\n",
    "    geomids = []\n",
    "    for idx in range(start, end):\n",
    "        idxs.append(idx)\n",
    "        geomids.append(dset[idx].id)\n",
    "    job_idxs.append(idxs)\n",
    "    job_geomids.append(geomids)"
   ]
  },
  {
   "cell_type": "code",
   "execution_count": 7,
   "metadata": {},
   "outputs": [
    {
     "data": {
      "text/plain": [
       "131"
      ]
     },
     "execution_count": 7,
     "metadata": {},
     "output_type": "execute_result"
    }
   ],
   "source": [
    "len(job_idxs)"
   ]
  },
  {
   "cell_type": "code",
   "execution_count": 8,
   "metadata": {},
   "outputs": [],
   "source": [
    "torch.save((job_idxs, job_geomids), \"qm9_job_idxs_geomids.pt\")"
   ]
  },
  {
   "cell_type": "code",
   "execution_count": 9,
   "metadata": {},
   "outputs": [],
   "source": [
    "#numpy disable scientific notation\n",
    "import numpy as np\n",
    "np.set_printoptions(suppress=True)\n",
    "from src.datamodule import ConformerDataModule\n",
    "import torch\n",
    "import tqdm\n",
    "np.random.seed(42)\n",
    "dm = ConformerDataModule(\"geom\", batch_size_train=10, num_workers=0, only_lowest_energy_conformers=True)\n",
    "dset = dm.datasets[\"test\"]"
   ]
  },
  {
   "cell_type": "code",
   "execution_count": 10,
   "metadata": {},
   "outputs": [
    {
     "data": {
      "text/plain": [
       "Molecule(coords=[42, 3], atoms=[42, 1], id=120194138, sizes=[1], moments=[1, 3], num_nodes=42)"
      ]
     },
     "execution_count": 10,
     "metadata": {},
     "output_type": "execute_result"
    }
   ],
   "source": []
  },
  {
   "cell_type": "code",
   "execution_count": 11,
   "metadata": {},
   "outputs": [
    {
     "data": {
      "text/plain": [
       "29203"
      ]
     },
     "execution_count": 11,
     "metadata": {},
     "output_type": "execute_result"
    }
   ],
   "source": [
    "len(dset)"
   ]
  },
  {
   "cell_type": "code",
   "execution_count": 12,
   "metadata": {},
   "outputs": [],
   "source": [
    "job_idxs = []\n",
    "job_geomids = []\n",
    "for i in range(0, len(dset), job_size):\n",
    "    start = i\n",
    "    end = min(i+job_size, len(dset))\n",
    "    idxs = []\n",
    "    geomids = []\n",
    "    for idx in range(start, end):\n",
    "        idxs.append(idx)\n",
    "        geomids.append(dset[idx].id)\n",
    "    job_idxs.append(idxs)\n",
    "    job_geomids.append(geomids)"
   ]
  },
  {
   "cell_type": "code",
   "execution_count": 13,
   "metadata": {},
   "outputs": [
    {
     "data": {
      "text/plain": [
       "293"
      ]
     },
     "execution_count": 13,
     "metadata": {},
     "output_type": "execute_result"
    }
   ],
   "source": [
    "len(job_idxs)"
   ]
  },
  {
   "cell_type": "code",
   "execution_count": 14,
   "metadata": {},
   "outputs": [],
   "source": [
    "torch.save((job_idxs, job_geomids), \"geom_job_idxs_geomids.pt\")"
   ]
  }
 ],
 "metadata": {
  "kernelspec": {
   "display_name": "moment3",
   "language": "python",
   "name": "python3"
  },
  "language_info": {
   "codemirror_mode": {
    "name": "ipython",
    "version": 3
   },
   "file_extension": ".py",
   "mimetype": "text/x-python",
   "name": "python",
   "nbconvert_exporter": "python",
   "pygments_lexer": "ipython3",
   "version": "3.9.18"
  }
 },
 "nbformat": 4,
 "nbformat_minor": 2
}
